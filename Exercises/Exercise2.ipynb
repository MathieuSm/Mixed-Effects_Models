{
 "cells": [
  {
   "cell_type": "code",
   "execution_count": 1,
   "metadata": {
    "collapsed": true
   },
   "outputs": [],
   "source": [
    "import pandas as pd\n",
    "import statsmodels.formula.api as smf"
   ]
  },
  {
   "cell_type": "code",
   "execution_count": 5,
   "outputs": [
    {
     "name": "stdout",
     "output_type": "stream",
     "text": [
      "         Mixed Linear Model Regression Results\n",
      "=======================================================\n",
      "Model:            MixedLM Dependent Variable: score    \n",
      "No. Observations: 54      Method:             REML     \n",
      "No. Groups:       6       Scale:              9.9960   \n",
      "Min. group size:  9       Log-Likelihood:     -143.4391\n",
      "Max. group size:  9       Converged:          Yes      \n",
      "Mean group size:  9.0                                  \n",
      "-------------------------------------------------------\n",
      "             Coef.  Std.Err.   z    P>|z| [0.025 0.975]\n",
      "-------------------------------------------------------\n",
      "Intercept    52.356    2.229 23.485 0.000 47.986 56.725\n",
      "Machine[T.B]  7.967    1.054  7.559 0.000  5.901 10.032\n",
      "Machine[T.C] 13.917    1.054 13.205 0.000 11.851 15.982\n",
      "Group Var    26.487    5.813                           \n",
      "=======================================================\n",
      "\n"
     ]
    }
   ],
   "source": [
    "Machines = pd.read_csv('Machines.csv')\n",
    "Machines_LMM1 = smf.mixedlm('score ~ Machine',\n",
    "                        data=Machines,\n",
    "                        groups=Machines['Worker'],\n",
    "                        ).fit(reml=True)\n",
    "print(Machines_LMM1.summary())"
   ],
   "metadata": {
    "collapsed": false,
    "pycharm": {
     "name": "#%%\n"
    }
   }
  },
  {
   "cell_type": "code",
   "execution_count": 20,
   "outputs": [
    {
     "name": "stdout",
     "output_type": "stream",
     "text": [
      "Intercept       52.355556\n",
      "Machine[T.B]     7.966667\n",
      "Machine[T.C]    13.916667\n",
      "dtype: float64\n",
      "Group Var    5.146531\n",
      "dtype: float64\n"
     ]
    }
   ],
   "source": [
    "Fixed_Effects = Machines_LMM1.fe_params\n",
    "Random_Effects = Machines_LMM1.params[len(Fixed_Effects):]\n",
    "Scale = Machines_LMM1.scale\n",
    "\n",
    "print(Fixed_Effects)\n",
    "print((Random_Effects * Scale) ** 0.5)"
   ],
   "metadata": {
    "collapsed": false,
    "pycharm": {
     "name": "#%%\n"
    }
   }
  },
  {
   "cell_type": "code",
   "execution_count": 19,
   "outputs": [
    {
     "data": {
      "text/plain": "                 Intercept  Machine[T.B]  Machine[T.C]     Group Var\nIntercept     4.969799e+00 -5.553346e-01 -5.553346e-01 -1.871711e-13\nMachine[T.B] -5.553346e-01  1.110669e+00  5.553346e-01 -2.084908e-17\nMachine[T.C] -5.553346e-01  5.553346e-01  1.110669e+00 -3.127362e-17\nGroup Var    -1.871711e-13 -2.084908e-17 -3.127362e-17  3.380252e+00",
      "text/html": "<div>\n<style scoped>\n    .dataframe tbody tr th:only-of-type {\n        vertical-align: middle;\n    }\n\n    .dataframe tbody tr th {\n        vertical-align: top;\n    }\n\n    .dataframe thead th {\n        text-align: right;\n    }\n</style>\n<table border=\"1\" class=\"dataframe\">\n  <thead>\n    <tr style=\"text-align: right;\">\n      <th></th>\n      <th>Intercept</th>\n      <th>Machine[T.B]</th>\n      <th>Machine[T.C]</th>\n      <th>Group Var</th>\n    </tr>\n  </thead>\n  <tbody>\n    <tr>\n      <th>Intercept</th>\n      <td>4.969799e+00</td>\n      <td>-5.553346e-01</td>\n      <td>-5.553346e-01</td>\n      <td>-1.871711e-13</td>\n    </tr>\n    <tr>\n      <th>Machine[T.B]</th>\n      <td>-5.553346e-01</td>\n      <td>1.110669e+00</td>\n      <td>5.553346e-01</td>\n      <td>-2.084908e-17</td>\n    </tr>\n    <tr>\n      <th>Machine[T.C]</th>\n      <td>-5.553346e-01</td>\n      <td>5.553346e-01</td>\n      <td>1.110669e+00</td>\n      <td>-3.127362e-17</td>\n    </tr>\n    <tr>\n      <th>Group Var</th>\n      <td>-1.871711e-13</td>\n      <td>-2.084908e-17</td>\n      <td>-3.127362e-17</td>\n      <td>3.380252e+00</td>\n    </tr>\n  </tbody>\n</table>\n</div>"
     },
     "execution_count": 19,
     "metadata": {},
     "output_type": "execute_result"
    }
   ],
   "source": [
    "Machines_LMM1.cov_params()"
   ],
   "metadata": {
    "collapsed": false,
    "pycharm": {
     "name": "#%%\n"
    }
   }
  },
  {
   "cell_type": "code",
   "execution_count": null,
   "outputs": [],
   "source": [],
   "metadata": {
    "collapsed": false,
    "pycharm": {
     "name": "#%%\n"
    }
   }
  }
 ],
 "metadata": {
  "kernelspec": {
   "display_name": "Python 3",
   "language": "python",
   "name": "python3"
  },
  "language_info": {
   "codemirror_mode": {
    "name": "ipython",
    "version": 2
   },
   "file_extension": ".py",
   "mimetype": "text/x-python",
   "name": "python",
   "nbconvert_exporter": "python",
   "pygments_lexer": "ipython2",
   "version": "2.7.6"
  }
 },
 "nbformat": 4,
 "nbformat_minor": 0
}