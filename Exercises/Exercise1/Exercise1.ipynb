{
 "cells": [
  {
   "cell_type": "code",
   "execution_count": 1,
   "metadata": {
    "collapsed": true
   },
   "outputs": [],
   "source": [
    "import pandas as pd\n",
    "import statsmodels.formula.api as smf"
   ]
  },
  {
   "cell_type": "code",
   "execution_count": 3,
   "metadata": {
    "pycharm": {
     "name": "#%%\n"
    }
   },
   "outputs": [
    {
     "name": "stdout",
     "output_type": "stream",
     "text": [
      "         Mixed Linear Model Regression Results\n",
      "=======================================================\n",
      "Model:            MixedLM Dependent Variable: Yield    \n",
      "No. Observations: 72      Method:             REML     \n",
      "No. Groups:       6       Scale:              165.5576 \n",
      "Min. group size:  12      Log-Likelihood:     -296.5209\n",
      "Max. group size:  12      Converged:          Yes      \n",
      "Mean group size:  12.0                                 \n",
      "-------------------------------------------------------\n",
      "             Coef.  Std.Err.   z    P>|z| [0.025 0.975]\n",
      "-------------------------------------------------------\n",
      "Intercept    81.872    6.945 11.788 0.000 68.260 95.485\n",
      "nitro        73.667    6.781 10.863 0.000 60.375 86.958\n",
      "Block Var   210.429   13.498                           \n",
      "Variety Var 121.106    5.710                           \n",
      "=======================================================\n",
      "\n"
     ]
    }
   ],
   "source": [
    "Oats = pd.read_csv('../Oats.csv')\n",
    "Oats_LMM1 = smf.mixedlm('Yield ~ nitro',\n",
    "                        vc_formula={'Block': '1', 'Variety': '0 + Variety'},\n",
    "                        data=Oats,\n",
    "                        groups=Oats['Block'],\n",
    "                        ).fit(reml=True)\n",
    "print(Oats_LMM1.summary())"
   ]
  },
  {
   "cell_type": "code",
   "execution_count": 4,
   "outputs": [
    {
     "name": "stdout",
     "output_type": "stream",
     "text": [
      "Intercept    81.872222\n",
      "nitro        73.666667\n",
      "dtype: float64\n",
      "Block Var      14.506172\n",
      "Variety Var    11.004807\n",
      "dtype: float64\n"
     ]
    }
   ],
   "source": [
    "Parameters = Oats_LMM1.params\n",
    "Scale = Oats_LMM1.scale\n",
    "\n",
    "print(Parameters[:-2])\n",
    "print((Parameters[-2:] * Scale) ** 0.5)"
   ],
   "metadata": {
    "collapsed": false,
    "pycharm": {
     "name": "#%%\n"
    }
   }
  },
  {
   "cell_type": "code",
   "execution_count": 115,
   "outputs": [
    {
     "data": {
      "text/plain": "array([[1. , 0. ],\n       [1. , 0.2],\n       [1. , 0.4],\n       [1. , 0.6],\n       [1. , 0. ],\n       [1. , 0.2],\n       [1. , 0.4],\n       [1. , 0.6],\n       [1. , 0. ],\n       [1. , 0.2],\n       [1. , 0.4],\n       [1. , 0.6],\n       [1. , 0. ],\n       [1. , 0.2],\n       [1. , 0.4],\n       [1. , 0.6],\n       [1. , 0. ],\n       [1. , 0.2],\n       [1. , 0.4],\n       [1. , 0.6],\n       [1. , 0. ],\n       [1. , 0.2],\n       [1. , 0.4],\n       [1. , 0.6],\n       [1. , 0. ],\n       [1. , 0.2],\n       [1. , 0.4],\n       [1. , 0.6],\n       [1. , 0. ],\n       [1. , 0.2],\n       [1. , 0.4],\n       [1. , 0.6],\n       [1. , 0. ],\n       [1. , 0.2],\n       [1. , 0.4],\n       [1. , 0.6],\n       [1. , 0. ],\n       [1. , 0.2],\n       [1. , 0.4],\n       [1. , 0.6],\n       [1. , 0. ],\n       [1. , 0.2],\n       [1. , 0.4],\n       [1. , 0.6],\n       [1. , 0. ],\n       [1. , 0.2],\n       [1. , 0.4],\n       [1. , 0.6],\n       [1. , 0. ],\n       [1. , 0.2],\n       [1. , 0.4],\n       [1. , 0.6],\n       [1. , 0. ],\n       [1. , 0.2],\n       [1. , 0.4],\n       [1. , 0.6],\n       [1. , 0. ],\n       [1. , 0.2],\n       [1. , 0.4],\n       [1. , 0.6],\n       [1. , 0. ],\n       [1. , 0.2],\n       [1. , 0.4],\n       [1. , 0.6],\n       [1. , 0. ],\n       [1. , 0.2],\n       [1. , 0.4],\n       [1. , 0.6],\n       [1. , 0. ],\n       [1. , 0.2],\n       [1. , 0.4],\n       [1. , 0.6]])"
     },
     "execution_count": 115,
     "metadata": {},
     "output_type": "execute_result"
    }
   ],
   "source": [
    "X = Oats_LMM1.model.exog\n",
    "nij = Oats_LMM1."
   ],
   "metadata": {
    "collapsed": false,
    "pycharm": {
     "name": "#%%\n"
    }
   }
  }
 ],
 "metadata": {
  "kernelspec": {
   "display_name": "Python 3",
   "language": "python",
   "name": "python3"
  },
  "language_info": {
   "codemirror_mode": {
    "name": "ipython",
    "version": 3
   },
   "file_extension": ".py",
   "mimetype": "text/x-python",
   "name": "python",
   "nbconvert_exporter": "python",
   "pygments_lexer": "ipython3",
   "version": "3.6.13"
  }
 },
 "nbformat": 4,
 "nbformat_minor": 1
}